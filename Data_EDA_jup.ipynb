{
 "cells": [
  {
   "cell_type": "code",
   "execution_count": 1,
   "metadata": {},
   "outputs": [],
   "source": [
    "###\n",
    "# Packages\n",
    "###\n",
    "import os\n",
    "import pandas as pd\n",
    "import numpy as np\n",
    "import matplotlib.pyplot as plt\n",
    "import matplotlib.ticker as ticker\n",
    "import seaborn as sns\n",
    "import plotly.express as px\n",
    "\n",
    "###\n",
    "# Packages Options\n",
    "###\n",
    "pd.options.mode.chained_assignment = None"
   ]
  },
  {
   "cell_type": "code",
   "execution_count": 2,
   "metadata": {},
   "outputs": [],
   "source": [
    "### Inputs\n",
    "season = '2020-2021'\n",
    "data_dir = '%s%s%s%s' % (os.getcwd(), '\\\\Datas\\\\', season, '\\\\df_shots_cleaned.csv')"
   ]
  },
  {
   "cell_type": "code",
   "execution_count": 3,
   "metadata": {},
   "outputs": [],
   "source": [
    "### DL of dataset\n",
    "df_cleaned = pd.read_csv(data_dir)\n",
    "\n",
    "### Small last cleaning for graph purposes\n",
    "dic_shot = {0: 'missed', 1: 'made'}\n",
    "df_cleaned['result_str'] = df_cleaned['result'].map(dic_shot)"
   ]
  },
  {
   "cell_type": "code",
   "execution_count": 4,
   "metadata": {},
   "outputs": [
    {
     "data": {
      "text/html": [
       "<div>\n",
       "<style scoped>\n",
       "    .dataframe tbody tr th:only-of-type {\n",
       "        vertical-align: middle;\n",
       "    }\n",
       "\n",
       "    .dataframe tbody tr th {\n",
       "        vertical-align: top;\n",
       "    }\n",
       "\n",
       "    .dataframe thead th {\n",
       "        text-align: right;\n",
       "    }\n",
       "</style>\n",
       "<table border=\"1\" class=\"dataframe\">\n",
       "  <thead>\n",
       "    <tr style=\"text-align: right;\">\n",
       "      <th></th>\n",
       "      <th>result</th>\n",
       "      <th>away_score</th>\n",
       "      <th>home_score</th>\n",
       "      <th>player_team_scorediff</th>\n",
       "      <th>play_length</th>\n",
       "      <th>elapsed</th>\n",
       "      <th>shot_distance</th>\n",
       "      <th>area_shot</th>\n",
       "      <th>player_home</th>\n",
       "      <th>player_away</th>\n",
       "      <th>...</th>\n",
       "      <th>shots_player_made</th>\n",
       "      <th>shots_player_total</th>\n",
       "      <th>FG_player</th>\n",
       "      <th>player_streak</th>\n",
       "      <th>assist_player_total</th>\n",
       "      <th>ratio_assist_player</th>\n",
       "      <th>Position</th>\n",
       "      <th>Experience</th>\n",
       "      <th>Age</th>\n",
       "      <th>result_str</th>\n",
       "    </tr>\n",
       "  </thead>\n",
       "  <tbody>\n",
       "    <tr>\n",
       "      <th>0</th>\n",
       "      <td>1</td>\n",
       "      <td>2</td>\n",
       "      <td>2</td>\n",
       "      <td>-2</td>\n",
       "      <td>16</td>\n",
       "      <td>I_00-02</td>\n",
       "      <td>22</td>\n",
       "      <td>Long_Paint_Shot</td>\n",
       "      <td>1</td>\n",
       "      <td>0</td>\n",
       "      <td>...</td>\n",
       "      <td>0</td>\n",
       "      <td>0</td>\n",
       "      <td>0.0</td>\n",
       "      <td>0</td>\n",
       "      <td>0</td>\n",
       "      <td>0.0</td>\n",
       "      <td>PG</td>\n",
       "      <td>9</td>\n",
       "      <td>28</td>\n",
       "      <td>made</td>\n",
       "    </tr>\n",
       "    <tr>\n",
       "      <th>1</th>\n",
       "      <td>1</td>\n",
       "      <td>4</td>\n",
       "      <td>2</td>\n",
       "      <td>0</td>\n",
       "      <td>11</td>\n",
       "      <td>I_00-02</td>\n",
       "      <td>1</td>\n",
       "      <td>Under_the_Circle</td>\n",
       "      <td>0</td>\n",
       "      <td>1</td>\n",
       "      <td>...</td>\n",
       "      <td>0</td>\n",
       "      <td>0</td>\n",
       "      <td>0.0</td>\n",
       "      <td>0</td>\n",
       "      <td>0</td>\n",
       "      <td>0.0</td>\n",
       "      <td>C</td>\n",
       "      <td>0</td>\n",
       "      <td>19</td>\n",
       "      <td>made</td>\n",
       "    </tr>\n",
       "    <tr>\n",
       "      <th>2</th>\n",
       "      <td>1</td>\n",
       "      <td>4</td>\n",
       "      <td>5</td>\n",
       "      <td>-2</td>\n",
       "      <td>22</td>\n",
       "      <td>I_00-02</td>\n",
       "      <td>26</td>\n",
       "      <td>3pt_Middle</td>\n",
       "      <td>1</td>\n",
       "      <td>0</td>\n",
       "      <td>...</td>\n",
       "      <td>0</td>\n",
       "      <td>0</td>\n",
       "      <td>0.0</td>\n",
       "      <td>0</td>\n",
       "      <td>0</td>\n",
       "      <td>0.0</td>\n",
       "      <td>PF</td>\n",
       "      <td>12</td>\n",
       "      <td>32</td>\n",
       "      <td>made</td>\n",
       "    </tr>\n",
       "    <tr>\n",
       "      <th>3</th>\n",
       "      <td>0</td>\n",
       "      <td>4</td>\n",
       "      <td>5</td>\n",
       "      <td>-1</td>\n",
       "      <td>18</td>\n",
       "      <td>I_00-02</td>\n",
       "      <td>24</td>\n",
       "      <td>3pt_Left_Corner</td>\n",
       "      <td>0</td>\n",
       "      <td>1</td>\n",
       "      <td>...</td>\n",
       "      <td>0</td>\n",
       "      <td>0</td>\n",
       "      <td>0.0</td>\n",
       "      <td>0</td>\n",
       "      <td>0</td>\n",
       "      <td>0.0</td>\n",
       "      <td>PF</td>\n",
       "      <td>6</td>\n",
       "      <td>25</td>\n",
       "      <td>missed</td>\n",
       "    </tr>\n",
       "    <tr>\n",
       "      <th>4</th>\n",
       "      <td>1</td>\n",
       "      <td>4</td>\n",
       "      <td>7</td>\n",
       "      <td>1</td>\n",
       "      <td>2</td>\n",
       "      <td>I_00-02</td>\n",
       "      <td>5</td>\n",
       "      <td>Under_the_Circle</td>\n",
       "      <td>1</td>\n",
       "      <td>0</td>\n",
       "      <td>...</td>\n",
       "      <td>1</td>\n",
       "      <td>1</td>\n",
       "      <td>100.0</td>\n",
       "      <td>1</td>\n",
       "      <td>1</td>\n",
       "      <td>100.0</td>\n",
       "      <td>PF</td>\n",
       "      <td>12</td>\n",
       "      <td>32</td>\n",
       "      <td>made</td>\n",
       "    </tr>\n",
       "  </tbody>\n",
       "</table>\n",
       "<p>5 rows × 22 columns</p>\n",
       "</div>"
      ],
      "text/plain": [
       "   result  away_score  home_score  player_team_scorediff  play_length  \\\n",
       "0       1           2           2                     -2           16   \n",
       "1       1           4           2                      0           11   \n",
       "2       1           4           5                     -2           22   \n",
       "3       0           4           5                     -1           18   \n",
       "4       1           4           7                      1            2   \n",
       "\n",
       "   elapsed  shot_distance         area_shot  player_home  player_away  ...  \\\n",
       "0  I_00-02             22   Long_Paint_Shot            1            0  ...   \n",
       "1  I_00-02              1  Under_the_Circle            0            1  ...   \n",
       "2  I_00-02             26        3pt_Middle            1            0  ...   \n",
       "3  I_00-02             24   3pt_Left_Corner            0            1  ...   \n",
       "4  I_00-02              5  Under_the_Circle            1            0  ...   \n",
       "\n",
       "   shots_player_made  shots_player_total  FG_player  player_streak  \\\n",
       "0                  0                   0        0.0              0   \n",
       "1                  0                   0        0.0              0   \n",
       "2                  0                   0        0.0              0   \n",
       "3                  0                   0        0.0              0   \n",
       "4                  1                   1      100.0              1   \n",
       "\n",
       "   assist_player_total  ratio_assist_player  Position  Experience Age  \\\n",
       "0                    0                  0.0        PG           9  28   \n",
       "1                    0                  0.0         C           0  19   \n",
       "2                    0                  0.0        PF          12  32   \n",
       "3                    0                  0.0        PF           6  25   \n",
       "4                    1                100.0        PF          12  32   \n",
       "\n",
       "   result_str  \n",
       "0        made  \n",
       "1        made  \n",
       "2        made  \n",
       "3      missed  \n",
       "4        made  \n",
       "\n",
       "[5 rows x 22 columns]"
      ]
     },
     "execution_count": 4,
     "metadata": {},
     "output_type": "execute_result"
    }
   ],
   "source": [
    "df_cleaned.head(5)"
   ]
  },
  {
   "cell_type": "code",
   "execution_count": 57,
   "metadata": {},
   "outputs": [],
   "source": [
    "## Graph I function : Functions to create easy-to-use dataframes serving for graph purposes \n",
    "\n",
    "# Creation of a sub data frame using as graph input\n",
    "def category_result(df, var_selected='Position'):\n",
    "    df_tmp = pd.pivot_table(data=df, index=var_selected, columns='result_str', aggfunc='size', fill_value=0)\n",
    "    df_tmp['FG%'] = round(100 * df_tmp['made'] / (df_tmp['made'] + df_tmp['missed']), 2)\n",
    "    return df_tmp\n",
    "\n",
    "def category_melt(df, var_selected='Position'):\n",
    "    df_tmp = category_result(df, var_selected).reset_index()\n",
    "    df_tmp = pd.melt(df_tmp, id_vars=[var_selected], value_vars=['made', 'missed'], value_name='Total')\n",
    "    return df_tmp"
   ]
  },
  {
   "cell_type": "code",
   "execution_count": 97,
   "metadata": {},
   "outputs": [
    {
     "data": {
      "image/png": "[encoded data removed]",
      "text/plain": [
       "<Figure size 1080x576 with 2 Axes>"
      ]
     },
     "metadata": {
      "needs_background": "light"
     },
     "output_type": "display_data"
    }
   ],
   "source": [
    "## Graph I : 2D-graphs with number of made, missed shots and FG% for a defined variable (input is var_selected)\n",
    "\n",
    "# Inputs\n",
    "df=df_cleaned\n",
    "var_selected='Position'\n",
    "color_palette = 'BuPu'\n",
    "\n",
    "# Graphs\n",
    "fig, ax = plt.subplots(figsize=(15, 8))\n",
    "fig.suptitle(f'Shooting Distribution according to {var_selected}')\n",
    "\n",
    "# Positions\n",
    "sns.barplot(data=category_melt(df, var_selected),\n",
    "    x=var_selected, y='Total', ax=ax,\n",
    "    hue='result_str', palette=sns.color_palette(color_palette, 2)\n",
    ")\n",
    "ax2 = ax.twinx()\n",
    "sns.lineplot(data=category_result(df, var_selected),\n",
    "    x=var_selected, y='FG%', ax=ax2, \n",
    "    marker='o', color='crimson', lw=3,\n",
    ")\n",
    "\n",
    "ax.tick_params(axis='x', labelrotation=45)"
   ]
  },
  {
   "cell_type": "code",
   "execution_count": 101,
   "metadata": {},
   "outputs": [
    {
     "data": {
      "image/png": "[encoded data removed]",
      "text/plain": [
       "<Figure size 1080x576 with 1 Axes>"
      ]
     },
     "metadata": {
      "needs_background": "light"
     },
     "output_type": "display_data"
    }
   ],
   "source": [
    "## Graph II : Number of shots made by positions and time intervals\n",
    "fig, ax = plt.subplots(figsize=(15, 8))\n",
    "fig.suptitle('Who makes shots and when ? (without overtime)')\n",
    "\n",
    "positions = ['PG', 'SG', 'SF', 'PF', 'C']\n",
    "palette = sns.color_palette('Set1', 5)\n",
    "\n",
    "sns.histplot(\n",
    "    # x=df_cleaned.elapsed, \n",
    "    x=df_cleaned.loc[df_cleaned.result == 1, 'elapsed'],\n",
    "    hue=df_cleaned.Position, hue_order=positions,  \n",
    "    element='poly', \n",
    "    palette=palette\n",
    "    )\n",
    "ax.set_xlabel('Time Intervals')\n",
    "ax.set_xlim((0, 23))\n",
    "ax.set_ylabel('Nb of Shots made')\n",
    "ax.set_ylim((500, 1250))\n",
    "ax.tick_params(axis='x', labelrotation=45)"
   ]
  },
  {
   "cell_type": "code",
   "execution_count": 104,
   "metadata": {},
   "outputs": [
    {
     "data": {
      "application/vnd.plotly.v1+json": {
       "config": {
        "plotlyServerURL": "https://plot.ly"
       },
       "data": [
        {
         "branchvalues": "total",
         "customdata": [
          [
           43.67
          ],
          [
           41.28
          ],
          [
           42.65
          ],
          [
           41.69
          ],
          [
           42.79
          ],
          [
           42.55
          ],
          [
           38.8
          ],
          [
           40.87
          ],
          [
           41.85
          ],
          [
           42.08
          ],
          [
           39.39
          ],
          [
           41.09
          ],
          [
           44.12
          ],
          [
           42.41
          ],
          [
           42.94
          ],
          [
           42.35
          ],
          [
           38.39
          ],
          [
           40.86
          ],
          [
           44.35000000000001
          ],
          [
           39.52
          ],
          [
           34.68
          ],
          [
           37.88
          ],
          [
           39.99
          ],
          [
           39.14
          ],
          [
           40.06
          ],
          [
           29.98
          ],
          [
           27.3
          ],
          [
           34.59
          ],
          [
           31.03
          ],
          [
           32.69
          ],
          [
           35.87
          ],
          [
           36.31
          ],
          [
           35.88
          ],
          [
           36.14
          ],
          [
           35.19
          ],
          [
           35.19
          ],
          [
           39.14
          ],
          [
           38.97
          ],
          [
           39.75
          ],
          [
           41.46
          ],
          [
           35.77
          ],
          [
           35.86
          ],
          [
           38.23
          ],
          [
           36.39
          ],
          [
           37.42
          ],
          [
           36.03
          ],
          [
           36.67
          ],
          [
           36.99
          ],
          [
           38.82
          ],
          [
           37.09
          ],
          [
           42.87
          ],
          [
           39.38
          ],
          [
           41.65
          ],
          [
           42.93
          ],
          [
           41.95
          ],
          [
           46.67
          ],
          [
           42.98
          ],
          [
           44.48
          ],
          [
           40.36
          ],
          [
           42.31
          ],
          [
           65.43
          ],
          [
           62.440000000000005
          ],
          [
           56.12
          ],
          [
           60.1
          ],
          [
           57.06
          ],
          [
           57.73321555785362
          ],
          [
           50.5640837325784
          ],
          [
           46.167627483605756
          ],
          [
           47.733431216931216
          ],
          [
           45.74086142975531
          ],
          [
           49.307569359715664
          ]
         ],
         "domain": {
          "x": [
           0,
           1
          ],
          "y": [
           0,
           1
          ]
         },
         "hovertemplate": "Label: %{label}<br>FG: %{color:.2f}%<br>Nb Made: %{value}",
         "ids": [
          "All/C/2pt_Left_Corner",
          "All/PF/2pt_Left_Corner",
          "All/PG/2pt_Left_Corner",
          "All/SF/2pt_Left_Corner",
          "All/SG/2pt_Left_Corner",
          "All/C/2pt_Right_Corner",
          "All/PF/2pt_Right_Corner",
          "All/PG/2pt_Right_Corner",
          "All/SF/2pt_Right_Corner",
          "All/SG/2pt_Right_Corner",
          "All/C/2pt_Top_Left",
          "All/PF/2pt_Top_Left",
          "All/PG/2pt_Top_Left",
          "All/SF/2pt_Top_Left",
          "All/SG/2pt_Top_Left",
          "All/C/2pt_Top_Right",
          "All/PF/2pt_Top_Right",
          "All/PG/2pt_Top_Right",
          "All/SF/2pt_Top_Right",
          "All/SG/2pt_Top_Right",
          "All/C/3pt_Left_Corner",
          "All/PF/3pt_Left_Corner",
          "All/PG/3pt_Left_Corner",
          "All/SF/3pt_Left_Corner",
          "All/SG/3pt_Left_Corner",
          "All/C/3pt_Long_Shots",
          "All/PF/3pt_Long_Shots",
          "All/PG/3pt_Long_Shots",
          "All/SF/3pt_Long_Shots",
          "All/SG/3pt_Long_Shots",
          "All/C/3pt_Middle",
          "All/PF/3pt_Middle",
          "All/PG/3pt_Middle",
          "All/SF/3pt_Middle",
          "All/SG/3pt_Middle",
          "All/C/3pt_Right_Corner",
          "All/PF/3pt_Right_Corner",
          "All/PG/3pt_Right_Corner",
          "All/SF/3pt_Right_Corner",
          "All/SG/3pt_Right_Corner",
          "All/C/3pt_Top_Left",
          "All/PF/3pt_Top_Left",
          "All/PG/3pt_Top_Left",
          "All/SF/3pt_Top_Left",
          "All/SG/3pt_Top_Left",
          "All/C/3pt_Top_Right",
          "All/PF/3pt_Top_Right",
          "All/PG/3pt_Top_Right",
          "All/SF/3pt_Top_Right",
          "All/SG/3pt_Top_Right",
          "All/C/Long_Paint_Shot",
          "All/PF/Long_Paint_Shot",
          "All/PG/Long_Paint_Shot",
          "All/SF/Long_Paint_Shot",
          "All/SG/Long_Paint_Shot",
          "All/C/Short_Paint_Shot",
          "All/PF/Short_Paint_Shot",
          "All/PG/Short_Paint_Shot",
          "All/SF/Short_Paint_Shot",
          "All/SG/Short_Paint_Shot",
          "All/C/Under_the_Circle",
          "All/PF/Under_the_Circle",
          "All/PG/Under_the_Circle",
          "All/SF/Under_the_Circle",
          "All/SG/Under_the_Circle",
          "All/C",
          "All/PF",
          "All/PG",
          "All/SF",
          "All/SG",
          "All"
         ],
         "labels": [
          "2pt_Left_Corner",
          "2pt_Left_Corner",
          "2pt_Left_Corner",
          "2pt_Left_Corner",
          "2pt_Left_Corner",
          "2pt_Right_Corner",
          "2pt_Right_Corner",
          "2pt_Right_Corner",
          "2pt_Right_Corner",
          "2pt_Right_Corner",
          "2pt_Top_Left",
          "2pt_Top_Left",
          "2pt_Top_Left",
          "2pt_Top_Left",
          "2pt_Top_Left",
          "2pt_Top_Right",
          "2pt_Top_Right",
          "2pt_Top_Right",
          "2pt_Top_Right",
          "2pt_Top_Right",
          "3pt_Left_Corner",
          "3pt_Left_Corner",
          "3pt_Left_Corner",
          "3pt_Left_Corner",
          "3pt_Left_Corner",
          "3pt_Long_Shots",
          "3pt_Long_Shots",
          "3pt_Long_Shots",
          "3pt_Long_Shots",
          "3pt_Long_Shots",
          "3pt_Middle",
          "3pt_Middle",
          "3pt_Middle",
          "3pt_Middle",
          "3pt_Middle",
          "3pt_Right_Corner",
          "3pt_Right_Corner",
          "3pt_Right_Corner",
          "3pt_Right_Corner",
          "3pt_Right_Corner",
          "3pt_Top_Left",
          "3pt_Top_Left",
          "3pt_Top_Left",
          "3pt_Top_Left",
          "3pt_Top_Left",
          "3pt_Top_Right",
          "3pt_Top_Right",
          "3pt_Top_Right",
          "3pt_Top_Right",
          "3pt_Top_Right",
          "Long_Paint_Shot",
          "Long_Paint_Shot",
          "Long_Paint_Shot",
          "Long_Paint_Shot",
          "Long_Paint_Shot",
          "Short_Paint_Shot",
          "Short_Paint_Shot",
          "Short_Paint_Shot",
          "Short_Paint_Shot",
          "Short_Paint_Shot",
          "Under_the_Circle",
          "Under_the_Circle",
          "Under_the_Circle",
          "Under_the_Circle",
          "Under_the_Circle",
          "C",
          "PF",
          "PG",
          "SF",
          "SG",
          "All"
         ],
         "marker": {
          "coloraxis": "coloraxis",
          "colors": [
           43.67,
           41.28,
           42.65,
           41.69,
           42.79,
           42.55,
           38.8,
           40.87,
           41.85,
           42.08,
           39.39,
           41.09,
           44.12,
           42.41,
           42.94,
           42.35,
           38.39,
           40.86,
           44.35000000000001,
           39.52,
           34.68,
           37.88,
           39.99,
           39.14,
           40.06,
           29.98,
           27.3,
           34.59,
           31.03,
           32.69,
           35.87,
           36.31,
           35.88,
           36.14,
           35.19,
           35.19,
           39.14,
           38.97,
           39.75,
           41.46,
           35.77,
           35.86,
           38.23,
           36.39,
           37.42,
           36.03,
           36.67,
           36.99,
           38.82,
           37.09,
           42.87,
           39.38,
           41.65,
           42.93,
           41.95,
           46.67,
           42.98,
           44.48,
           40.36,
           42.31,
           65.43,
           62.440000000000005,
           56.12,
           60.1,
           57.06,
           57.73321555785362,
           50.5640837325784,
           46.167627483605756,
           47.733431216931216,
           45.74086142975531,
           49.307569359715664
          ]
         },
         "name": "",
         "parents": [
          "All/C",
          "All/PF",
          "All/PG",
          "All/SF",
          "All/SG",
          "All/C",
          "All/PF",
          "All/PG",
          "All/SF",
          "All/SG",
          "All/C",
          "All/PF",
          "All/PG",
          "All/SF",
          "All/SG",
          "All/C",
          "All/PF",
          "All/PG",
          "All/SF",
          "All/SG",
          "All/C",
          "All/PF",
          "All/PG",
          "All/SF",
          "All/SG",
          "All/C",
          "All/PF",
          "All/PG",
          "All/SF",
          "All/SG",
          "All/C",
          "All/PF",
          "All/PG",
          "All/SF",
          "All/SG",
          "All/C",
          "All/PF",
          "All/PG",
          "All/SF",
          "All/SG",
          "All/C",
          "All/PF",
          "All/PG",
          "All/SF",
          "All/SG",
          "All/C",
          "All/PF",
          "All/PG",
          "All/SF",
          "All/SG",
          "All/C",
          "All/PF",
          "All/PG",
          "All/SF",
          "All/SG",
          "All/C",
          "All/PF",
          "All/PG",
          "All/SF",
          "All/SG",
          "All/C",
          "All/PF",
          "All/PG",
          "All/SF",
          "All/SG",
          "All",
          "All",
          "All",
          "All",
          "All",
          ""
         ],
         "type": "treemap",
         "values": [
          307,
          457,
          476,
          356,
          490,
          360,
          419,
          443,
          326,
          449,
          117,
          249,
          491,
          268,
          447,
          155,
          233,
          418,
          208,
          347,
          172,
          739,
          549,
          944,
          1142,
          191,
          350,
          1084,
          395,
          934,
          793,
          1185,
          1628,
          1073,
          1809,
          164,
          863,
          631,
          939,
          1301,
          328,
          984,
          1427,
          1150,
          1943,
          392,
          1128,
          1468,
          1227,
          2056,
          382,
          473,
          826,
          474,
          870,
          2244,
          2055,
          3127,
          1462,
          2644,
          11801,
          9233,
          7866,
          6298,
          8495,
          17406,
          18368,
          20434,
          15120,
          22927,
          94255
         ]
        }
       ],
       "layout": {
        "coloraxis": {
         "colorbar": {
          "title": {
           "text": "FG"
          }
         },
         "colorscale": [
          [
           0,
           "rgb(103,0,31)"
          ],
          [
           0.1,
           "rgb(178,24,43)"
          ],
          [
           0.2,
           "rgb(214,96,77)"
          ],
          [
           0.3,
           "rgb(244,165,130)"
          ],
          [
           0.4,
           "rgb(253,219,199)"
          ],
          [
           0.5,
           "rgb(247,247,247)"
          ],
          [
           0.6,
           "rgb(209,229,240)"
          ],
          [
           0.7,
           "rgb(146,197,222)"
          ],
          [
           0.8,
           "rgb(67,147,195)"
          ],
          [
           0.9,
           "rgb(33,102,172)"
          ],
          [
           1,
           "rgb(5,48,97)"
          ]
         ]
        },
        "height": 600,
        "legend": {
         "tracegroupgap": 0
        },
        "template": {
         "data": {
          "bar": [
           {
            "error_x": {
             "color": "#2a3f5f"
            },
            "error_y": {
             "color": "#2a3f5f"
            },
            "marker": {
             "line": {
              "color": "#E5ECF6",
              "width": 0.5
             },
             "pattern": {
              "fillmode": "overlay",
              "size": 10,
              "solidity": 0.2
             }
            },
            "type": "bar"
           }
          ],
          "barpolar": [
           {
            "marker": {
             "line": {
              "color": "#E5ECF6",
              "width": 0.5
             },
             "pattern": {
              "fillmode": "overlay",
              "size": 10,
              "solidity": 0.2
             }
            },
            "type": "barpolar"
           }
          ],
          "carpet": [
           {
            "aaxis": {
             "endlinecolor": "#2a3f5f",
             "gridcolor": "white",
             "linecolor": "white",
             "minorgridcolor": "white",
             "startlinecolor": "#2a3f5f"
            },
            "baxis": {
             "endlinecolor": "#2a3f5f",
             "gridcolor": "white",
             "linecolor": "white",
             "minorgridcolor": "white",
             "startlinecolor": "#2a3f5f"
            },
            "type": "carpet"
           }
          ],
          "choropleth": [
           {
            "colorbar": {
             "outlinewidth": 0,
             "ticks": ""
            },
            "type": "choropleth"
           }
          ],
          "contour": [
           {
            "colorbar": {
             "outlinewidth": 0,
             "ticks": ""
            },
            "colorscale": [
             [
              0,
              "#0d0887"
             ],
             [
              0.1111111111111111,
              "#46039f"
             ],
             [
              0.2222222222222222,
              "#7201a8"
             ],
             [
              0.3333333333333333,
              "#9c179e"
             ],
             [
              0.4444444444444444,
              "#bd3786"
             ],
             [
              0.5555555555555556,
              "#d8576b"
             ],
             [
              0.6666666666666666,
              "#ed7953"
             ],
             [
              0.7777777777777778,
              "#fb9f3a"
             ],
             [
              0.8888888888888888,
              "#fdca26"
             ],
             [
              1,
              "#f0f921"
             ]
            ],
            "type": "contour"
           }
          ],
          "contourcarpet": [
           {
            "colorbar": {
             "outlinewidth": 0,
             "ticks": ""
            },
            "type": "contourcarpet"
           }
          ],
          "heatmap": [
           {
            "colorbar": {
             "outlinewidth": 0,
             "ticks": ""
            },
            "colorscale": [
             [
              0,
              "#0d0887"
             ],
             [
              0.1111111111111111,
              "#46039f"
             ],
             [
              0.2222222222222222,
              "#7201a8"
             ],
             [
              0.3333333333333333,
              "#9c179e"
             ],
             [
              0.4444444444444444,
              "#bd3786"
             ],
             [
              0.5555555555555556,
              "#d8576b"
             ],
             [
              0.6666666666666666,
              "#ed7953"
             ],
             [
              0.7777777777777778,
              "#fb9f3a"
             ],
             [
              0.8888888888888888,
              "#fdca26"
             ],
             [
              1,
              "#f0f921"
             ]
            ],
            "type": "heatmap"
           }
          ],
          "heatmapgl": [
           {
            "colorbar": {
             "outlinewidth": 0,
             "ticks": ""
            },
            "colorscale": [
             [
              0,
              "#0d0887"
             ],
             [
              0.1111111111111111,
              "#46039f"
             ],
             [
              0.2222222222222222,
              "#7201a8"
             ],
             [
              0.3333333333333333,
              "#9c179e"
             ],
             [
              0.4444444444444444,
              "#bd3786"
             ],
             [
              0.5555555555555556,
              "#d8576b"
             ],
             [
              0.6666666666666666,
              "#ed7953"
             ],
             [
              0.7777777777777778,
              "#fb9f3a"
             ],
             [
              0.8888888888888888,
              "#fdca26"
             ],
             [
              1,
              "#f0f921"
             ]
            ],
            "type": "heatmapgl"
           }
          ],
          "histogram": [
           {
            "marker": {
             "pattern": {
              "fillmode": "overlay",
              "size": 10,
              "solidity": 0.2
             }
            },
            "type": "histogram"
           }
          ],
          "histogram2d": [
           {
            "colorbar": {
             "outlinewidth": 0,
             "ticks": ""
            },
            "colorscale": [
             [
              0,
              "#0d0887"
             ],
             [
              0.1111111111111111,
              "#46039f"
             ],
             [
              0.2222222222222222,
              "#7201a8"
             ],
             [
              0.3333333333333333,
              "#9c179e"
             ],
             [
              0.4444444444444444,
              "#bd3786"
             ],
             [
              0.5555555555555556,
              "#d8576b"
             ],
             [
              0.6666666666666666,
              "#ed7953"
             ],
             [
              0.7777777777777778,
              "#fb9f3a"
             ],
             [
              0.8888888888888888,
              "#fdca26"
             ],
             [
              1,
              "#f0f921"
             ]
            ],
            "type": "histogram2d"
           }
          ],
          "histogram2dcontour": [
           {
            "colorbar": {
             "outlinewidth": 0,
             "ticks": ""
            },
            "colorscale": [
             [
              0,
              "#0d0887"
             ],
             [
              0.1111111111111111,
              "#46039f"
             ],
             [
              0.2222222222222222,
              "#7201a8"
             ],
             [
              0.3333333333333333,
              "#9c179e"
             ],
             [
              0.4444444444444444,
              "#bd3786"
             ],
             [
              0.5555555555555556,
              "#d8576b"
             ],
             [
              0.6666666666666666,
              "#ed7953"
             ],
             [
              0.7777777777777778,
              "#fb9f3a"
             ],
             [
              0.8888888888888888,
              "#fdca26"
             ],
             [
              1,
              "#f0f921"
             ]
            ],
            "type": "histogram2dcontour"
           }
          ],
          "mesh3d": [
           {
            "colorbar": {
             "outlinewidth": 0,
             "ticks": ""
            },
            "type": "mesh3d"
           }
          ],
          "parcoords": [
           {
            "line": {
             "colorbar": {
              "outlinewidth": 0,
              "ticks": ""
             }
            },
            "type": "parcoords"
           }
          ],
          "pie": [
           {
            "automargin": true,
            "type": "pie"
           }
          ],
          "scatter": [
           {
            "fillpattern": {
             "fillmode": "overlay",
             "size": 10,
             "solidity": 0.2
            },
            "type": "scatter"
           }
          ],
          "scatter3d": [
           {
            "line": {
             "colorbar": {
              "outlinewidth": 0,
              "ticks": ""
             }
            },
            "marker": {
             "colorbar": {
              "outlinewidth": 0,
              "ticks": ""
             }
            },
            "type": "scatter3d"
           }
          ],
          "scattercarpet": [
           {
            "marker": {
             "colorbar": {
              "outlinewidth": 0,
              "ticks": ""
             }
            },
            "type": "scattercarpet"
           }
          ],
          "scattergeo": [
           {
            "marker": {
             "colorbar": {
              "outlinewidth": 0,
              "ticks": ""
             }
            },
            "type": "scattergeo"
           }
          ],
          "scattergl": [
           {
            "marker": {
             "colorbar": {
              "outlinewidth": 0,
              "ticks": ""
             }
            },
            "type": "scattergl"
           }
          ],
          "scattermapbox": [
           {
            "marker": {
             "colorbar": {
              "outlinewidth": 0,
              "ticks": ""
             }
            },
            "type": "scattermapbox"
           }
          ],
          "scatterpolar": [
           {
            "marker": {
             "colorbar": {
              "outlinewidth": 0,
              "ticks": ""
             }
            },
            "type": "scatterpolar"
           }
          ],
          "scatterpolargl": [
           {
            "marker": {
             "colorbar": {
              "outlinewidth": 0,
              "ticks": ""
             }
            },
            "type": "scatterpolargl"
           }
          ],
          "scatterternary": [
           {
            "marker": {
             "colorbar": {
              "outlinewidth": 0,
              "ticks": ""
             }
            },
            "type": "scatterternary"
           }
          ],
          "surface": [
           {
            "colorbar": {
             "outlinewidth": 0,
             "ticks": ""
            },
            "colorscale": [
             [
              0,
              "#0d0887"
             ],
             [
              0.1111111111111111,
              "#46039f"
             ],
             [
              0.2222222222222222,
              "#7201a8"
             ],
             [
              0.3333333333333333,
              "#9c179e"
             ],
             [
              0.4444444444444444,
              "#bd3786"
             ],
             [
              0.5555555555555556,
              "#d8576b"
             ],
             [
              0.6666666666666666,
              "#ed7953"
             ],
             [
              0.7777777777777778,
              "#fb9f3a"
             ],
             [
              0.8888888888888888,
              "#fdca26"
             ],
             [
              1,
              "#f0f921"
             ]
            ],
            "type": "surface"
           }
          ],
          "table": [
           {
            "cells": {
             "fill": {
              "color": "#EBF0F8"
             },
             "line": {
              "color": "white"
             }
            },
            "header": {
             "fill": {
              "color": "#C8D4E3"
             },
             "line": {
              "color": "white"
             }
            },
            "type": "table"
           }
          ]
         },
         "layout": {
          "annotationdefaults": {
           "arrowcolor": "#2a3f5f",
           "arrowhead": 0,
           "arrowwidth": 1
          },
          "autotypenumbers": "strict",
          "coloraxis": {
           "colorbar": {
            "outlinewidth": 0,
            "ticks": ""
           }
          },
          "colorscale": {
           "diverging": [
            [
             0,
             "#8e0152"
            ],
            [
             0.1,
             "#c51b7d"
            ],
            [
             0.2,
             "#de77ae"
            ],
            [
             0.3,
             "#f1b6da"
            ],
            [
             0.4,
             "#fde0ef"
            ],
            [
             0.5,
             "#f7f7f7"
            ],
            [
             0.6,
             "#e6f5d0"
            ],
            [
             0.7,
             "#b8e186"
            ],
            [
             0.8,
             "#7fbc41"
            ],
            [
             0.9,
             "#4d9221"
            ],
            [
             1,
             "#276419"
            ]
           ],
           "sequential": [
            [
             0,
             "#0d0887"
            ],
            [
             0.1111111111111111,
             "#46039f"
            ],
            [
             0.2222222222222222,
             "#7201a8"
            ],
            [
             0.3333333333333333,
             "#9c179e"
            ],
            [
             0.4444444444444444,
             "#bd3786"
            ],
            [
             0.5555555555555556,
             "#d8576b"
            ],
            [
             0.6666666666666666,
             "#ed7953"
            ],
            [
             0.7777777777777778,
             "#fb9f3a"
            ],
            [
             0.8888888888888888,
             "#fdca26"
            ],
            [
             1,
             "#f0f921"
            ]
           ],
           "sequentialminus": [
            [
             0,
             "#0d0887"
            ],
            [
             0.1111111111111111,
             "#46039f"
            ],
            [
             0.2222222222222222,
             "#7201a8"
            ],
            [
             0.3333333333333333,
             "#9c179e"
            ],
            [
             0.4444444444444444,
             "#bd3786"
            ],
            [
             0.5555555555555556,
             "#d8576b"
            ],
            [
             0.6666666666666666,
             "#ed7953"
            ],
            [
             0.7777777777777778,
             "#fb9f3a"
            ],
            [
             0.8888888888888888,
             "#fdca26"
            ],
            [
             1,
             "#f0f921"
            ]
           ]
          },
          "colorway": [
           "#636efa",
           "#EF553B",
           "#00cc96",
           "#ab63fa",
           "#FFA15A",
           "#19d3f3",
           "#FF6692",
           "#B6E880",
           "#FF97FF",
           "#FECB52"
          ],
          "font": {
           "color": "#2a3f5f"
          },
          "geo": {
           "bgcolor": "white",
           "lakecolor": "white",
           "landcolor": "#E5ECF6",
           "showlakes": true,
           "showland": true,
           "subunitcolor": "white"
          },
          "hoverlabel": {
           "align": "left"
          },
          "hovermode": "closest",
          "mapbox": {
           "style": "light"
          },
          "paper_bgcolor": "white",
          "plot_bgcolor": "#E5ECF6",
          "polar": {
           "angularaxis": {
            "gridcolor": "white",
            "linecolor": "white",
            "ticks": ""
           },
           "bgcolor": "#E5ECF6",
           "radialaxis": {
            "gridcolor": "white",
            "linecolor": "white",
            "ticks": ""
           }
          },
          "scene": {
           "xaxis": {
            "backgroundcolor": "#E5ECF6",
            "gridcolor": "white",
            "gridwidth": 2,
            "linecolor": "white",
            "showbackground": true,
            "ticks": "",
            "zerolinecolor": "white"
           },
           "yaxis": {
            "backgroundcolor": "#E5ECF6",
            "gridcolor": "white",
            "gridwidth": 2,
            "linecolor": "white",
            "showbackground": true,
            "ticks": "",
            "zerolinecolor": "white"
           },
           "zaxis": {
            "backgroundcolor": "#E5ECF6",
            "gridcolor": "white",
            "gridwidth": 2,
            "linecolor": "white",
            "showbackground": true,
            "ticks": "",
            "zerolinecolor": "white"
           }
          },
          "shapedefaults": {
           "line": {
            "color": "#2a3f5f"
           }
          },
          "ternary": {
           "aaxis": {
            "gridcolor": "white",
            "linecolor": "white",
            "ticks": ""
           },
           "baxis": {
            "gridcolor": "white",
            "linecolor": "white",
            "ticks": ""
           },
           "bgcolor": "#E5ECF6",
           "caxis": {
            "gridcolor": "white",
            "linecolor": "white",
            "ticks": ""
           }
          },
          "title": {
           "x": 0.05
          },
          "xaxis": {
           "automargin": true,
           "gridcolor": "white",
           "linecolor": "white",
           "ticks": "",
           "title": {
            "standoff": 15
           },
           "zerolinecolor": "white",
           "zerolinewidth": 2
          },
          "yaxis": {
           "automargin": true,
           "gridcolor": "white",
           "linecolor": "white",
           "ticks": "",
           "title": {
            "standoff": 15
           },
           "zerolinecolor": "white",
           "zerolinewidth": 2
          }
         }
        },
        "title": {
         "text": "Analysis of players efficiencies per area"
        },
        "width": 900
       }
      }
     },
     "metadata": {},
     "output_type": "display_data"
    }
   ],
   "source": [
    "## Graph III : Tree Map to explore players' effeciency per area and by position (large rectangle: large amount of shots taken, colour represents FG%) \n",
    "\n",
    "# Re-shaping of data frame for graph purpose\n",
    "df_for_tree = df_cleaned.pivot_table(\n",
    "    values='result', \n",
    "    columns='result_str', \n",
    "    index=['Position', 'area_shot'], \n",
    "    aggfunc='count'\n",
    "    ).reset_index()\n",
    "\n",
    "df_for_tree['FG'] = round(\n",
    "    100 * df_for_tree['made'] / (df_for_tree['missed'] + df_for_tree['made']), \n",
    "    2\n",
    "    )\n",
    "\n",
    "fig_treemap = px.treemap(data_frame=df_for_tree, \n",
    "           path=[px.Constant('All'), 'Position', 'area_shot'], \n",
    "           values='made',\n",
    "           color='FG', color_continuous_scale='RdBu', \n",
    "           width=900, height=600, title='Analysis of players efficiencies per area'\n",
    "           )\n",
    "\n",
    "fig_treemap.data[0].hovertemplate = 'Label: %{label}<br>FG: %{color:.2f}%<br>Nb Made: %{value}'\n",
    "fig_treemap.show()"
   ]
  },
  {
   "cell_type": "code",
   "execution_count": 119,
   "metadata": {},
   "outputs": [
    {
     "data": {
      "text/plain": [
       "<Axes: xlabel='Position', ylabel='area_shot'>"
      ]
     },
     "execution_count": 119,
     "metadata": {},
     "output_type": "execute_result"
    },
    {
     "data": {
      "image/png": "[encoded data removed]",
      "text/plain": [
       "<Figure size 1080x576 with 2 Axes>"
      ]
     },
     "metadata": {
      "needs_background": "light"
     },
     "output_type": "display_data"
    }
   ],
   "source": [
    "## Graph IV : Shooting distribution outside of the paint (per position and areas)\n",
    "horiz_var='area_shot'\n",
    "vert_var='Position'\n",
    "shot_type='made'\n",
    "\n",
    "plt.figure(figsize=(15, 8))\n",
    "plt.suptitle(f'Heat Map of shoots {horiz_var} vs {vert_var}')\n",
    "\n",
    "# Data re shaping for graph purpose\n",
    "def pivot_result(df, vert_var='Position', horiz_var='area_shot', bucket_type='made'):\n",
    "    df_tmp = df.query('result_str == @bucket_type')\n",
    "    df_tmp = pd.pivot_table(df_tmp,\n",
    "        index=[horiz_var], columns=[vert_var],\n",
    "        aggfunc='size', fill_value=0\n",
    "    )\n",
    "    return df_tmp\n",
    "\n",
    "# Correlation graph representation\n",
    "sns.heatmap(\n",
    "    data=pivot_result(df_cleaned.query('area_shot.str.contains(\"2|3\")'),\n",
    "        vert_var=vert_var, horiz_var=horiz_var, bucket_type=shot_type\n",
    "    ), cbar_kws = {'label': f'Nb of Shots {shot_type}'}\n",
    ")"
   ]
  }
 ],
 "metadata": {
  "kernelspec": {
   "display_name": "Python 3",
   "language": "python",
   "name": "python3"
  },
  "language_info": {
   "codemirror_mode": {
    "name": "ipython",
    "version": 3
   },
   "file_extension": ".py",
   "mimetype": "text/x-python",
   "name": "python",
   "nbconvert_exporter": "python",
   "pygments_lexer": "ipython3",
   "version": "3.9.7"
  },
  "orig_nbformat": 4
 },
 "nbformat": 4,
 "nbformat_minor": 2
}
